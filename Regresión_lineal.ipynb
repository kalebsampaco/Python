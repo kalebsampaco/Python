{
  "nbformat": 4,
  "nbformat_minor": 0,
  "metadata": {
    "colab": {
      "name": "Regresión_lineal.ipynb",
      "provenance": [],
      "collapsed_sections": [],
      "authorship_tag": "ABX9TyNrrWYRRd35TwFKx7oOS3YA",
      "include_colab_link": true
    },
    "kernelspec": {
      "name": "python3",
      "display_name": "Python 3"
    }
  },
  "cells": [
    {
      "cell_type": "markdown",
      "metadata": {
        "id": "view-in-github",
        "colab_type": "text"
      },
      "source": [
        "<a href=\"https://colab.research.google.com/github/kalebsampaco/Python/blob/master/Regresi%C3%B3n_lineal.ipynb\" target=\"_parent\"><img src=\"https://colab.research.google.com/assets/colab-badge.svg\" alt=\"Open In Colab\"/></a>"
      ]
    },
    {
      "cell_type": "code",
      "metadata": {
        "id": "_H6UBHwkuOP0",
        "colab_type": "code",
        "colab": {}
      },
      "source": [
        "import numpy as np\n",
        "import matplotlib.pyplot as plt\n"
      ],
      "execution_count": 5,
      "outputs": []
    },
    {
      "cell_type": "code",
      "metadata": {
        "id": "eJ_gKkVMulJY",
        "colab_type": "code",
        "colab": {}
      },
      "source": [
        "def estimate_b0_b1(x, y):\n",
        "    n = np.size(x)\n",
        "    #obtenemos los promedios de X y de Y\n",
        "    m_x, m_y = np.mean(x), np.mean(y)\n",
        "\n",
        "    #calcular sumatoria de XY y sumatoria de XX\n",
        "    sumatoria_xy = np.sum((x-m_x)*(y-m_y))\n",
        "    sumatoria_XX = np.sum(x*(x-m_x))\n",
        "\n",
        "    #coeficiente de regresion \n",
        "    b_1 = sumatoria_xy / sumatoria_XX\n",
        "    b_0 = m_y - b_1*m_x\n",
        "\n",
        "    return (b_0, b_1)\n",
        "\n",
        "\n"
      ],
      "execution_count": 13,
      "outputs": []
    },
    {
      "cell_type": "code",
      "metadata": {
        "id": "Uh9tOV0v_66n",
        "colab_type": "code",
        "colab": {}
      },
      "source": [
        "#Función de graficado\n",
        "\n",
        "def plt_regresion(x, y, b):\n",
        "    plt.scatter(x, y, color = \"g\", marker = \"o\", s = 30)\n",
        "    y_pred = b[0] + b[1] * x\n",
        "    plt.plot(x, y_pred, color = \"b\")\n",
        "    plt.xlabel('x - Independiente')\n",
        "    plt.ylabel('y - Dependiente')\n",
        "    plt.show"
      ],
      "execution_count": 14,
      "outputs": []
    },
    {
      "cell_type": "code",
      "metadata": {
        "id": "hLI_-F1DBbb0",
        "colab_type": "code",
        "colab": {
          "base_uri": "https://localhost:8080/",
          "height": 295
        },
        "outputId": "b6eb4cfa-88e2-49de-c81f-20094d3ed44c"
      },
      "source": [
        "#codigo MAIN\n",
        "def main():\n",
        "    x = np.array([1,2,3,4,5])\n",
        "    y = np.array([2,3,5,6,5])\n",
        "\n",
        "    #Obtenemos B1 y b2\n",
        "    b = estimate_b0_b1(x, y)\n",
        "    print(f'Los valores b0 = {b[0]}, b1 = {b[1]}')\n",
        "    #Graficamos nuestra línea de regresion\n",
        "    plt_regresion(x, y, b)\n",
        "\n",
        "if __name__=='__main__':\n",
        "    main()"
      ],
      "execution_count": 15,
      "outputs": [
        {
          "output_type": "stream",
          "text": [
            "Los valores b0 = 1.5, b1 = 0.9\n"
          ],
          "name": "stdout"
        },
        {
          "output_type": "display_data",
          "data": {
            "image/png": "[encoded data removed]",
            "text/plain": [
              "<Figure size 432x288 with 1 Axes>"
            ]
          },
          "metadata": {
            "tags": [],
            "needs_background": "light"
          }
        }
      ]
    },
    {
      "cell_type": "code",
      "metadata": {
        "id": "nDwNTsFrERTc",
        "colab_type": "code",
        "colab": {}
      },
      "source": [
        ""
      ],
      "execution_count": 15,
      "outputs": []
    }
  ]
}